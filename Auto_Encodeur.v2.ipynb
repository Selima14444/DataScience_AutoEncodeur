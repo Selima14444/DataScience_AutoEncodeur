{
  "nbformat": 4,
  "nbformat_minor": 0,
  "metadata": {
    "colab": {
      "provenance": []
    },
    "kernelspec": {
      "name": "python3",
      "display_name": "Python 3"
    },
    "language_info": {
      "name": "python"
    }
  },
  "cells": [
    {
      "cell_type": "code",
      "execution_count": null,
      "metadata": {
        "id": "Ulv6b1xddcRW"
      },
      "outputs": [],
      "source": []
    },
    {
      "cell_type": "markdown",
      "source": [
        "4.1 Générez un vecteur contenant N = 100000 messages aléatoires s ∈ M = {1, 2, · · · , M }. On pourra notam-\n",
        "ment importer la bibliothèque NumPy destinée à manipuler les matrices ou tableaux multidimensionnels."
      ],
      "metadata": {
        "id": "wotIdEYQj19B"
      }
    },
    {
      "cell_type": "code",
      "source": [
        "import numpy as np\n",
        "\n",
        "k = 3\n",
        "size_M = np.power(2, k)\n",
        "\n",
        "size_N = 100000\n",
        "N = np.random.randint(size_M, size=size_N)\n",
        "print(N)"
      ],
      "metadata": {
        "colab": {
          "base_uri": "https://localhost:8080/"
        },
        "id": "kwootYKbj6DC",
        "outputId": "29463771-5a68-4685-819f-d9d9f50cfd04"
      },
      "execution_count": 60,
      "outputs": [
        {
          "output_type": "stream",
          "name": "stdout",
          "text": [
            "[0 2 1 ... 4 3 0]\n"
          ]
        }
      ]
    },
    {
      "cell_type": "markdown",
      "source": [
        "4.2 Def One hot\n"
      ],
      "metadata": {
        "id": "kjSWLBDfpptC"
      }
    },
    {
      "cell_type": "markdown",
      "source": [
        "4.3. Appliquez un encodage one-hot pour chaque message. La matrice résultante sera donc de taille N × M ."
      ],
      "metadata": {
        "id": "5xD1GUC9pxsl"
      }
    },
    {
      "cell_type": "code",
      "source": [
        "matrix = np.zeros([size_N, size_M])\n",
        "for i in range(0, size_N):\n",
        "  message = np.zeros(size_M)\n",
        "  message[N[i]] = 1\n",
        "  matrix[i] = message\n",
        "\n",
        "print(matrix)"
      ],
      "metadata": {
        "colab": {
          "base_uri": "https://localhost:8080/"
        },
        "id": "9Axifhm8pwIk",
        "outputId": "7c0f5129-4a0f-44bb-e0af-639ed3f999ef"
      },
      "execution_count": 61,
      "outputs": [
        {
          "output_type": "stream",
          "name": "stdout",
          "text": [
            "[[1. 0. 0. ... 0. 0. 0.]\n",
            " [0. 0. 1. ... 0. 0. 0.]\n",
            " [0. 1. 0. ... 0. 0. 0.]\n",
            " ...\n",
            " [0. 0. 0. ... 0. 0. 0.]\n",
            " [0. 0. 0. ... 0. 0. 0.]\n",
            " [1. 0. 0. ... 0. 0. 0.]]\n"
          ]
        }
      ]
    },
    {
      "cell_type": "markdown",
      "source": [
        "4.4. Convertir la matrice en tenseur PyTorch."
      ],
      "metadata": {
        "id": "xf13Yiz4sl-U"
      }
    },
    {
      "cell_type": "code",
      "source": [
        "import torch\n",
        "\n",
        "tensor = torch.tensor(matrix)\n",
        "print(tensor)"
      ],
      "metadata": {
        "colab": {
          "base_uri": "https://localhost:8080/"
        },
        "id": "eAICwImWsnSK",
        "outputId": "97e91764-d9ca-46a3-b75d-13b27746dd67"
      },
      "execution_count": 62,
      "outputs": [
        {
          "output_type": "stream",
          "name": "stdout",
          "text": [
            "tensor([[1., 0., 0.,  ..., 0., 0., 0.],\n",
            "        [0., 0., 1.,  ..., 0., 0., 0.],\n",
            "        [0., 1., 0.,  ..., 0., 0., 0.],\n",
            "        ...,\n",
            "        [0., 0., 0.,  ..., 0., 0., 0.],\n",
            "        [0., 0., 0.,  ..., 0., 0., 0.],\n",
            "        [1., 0., 0.,  ..., 0., 0., 0.]], dtype=torch.float64)\n"
          ]
        }
      ]
    },
    {
      "cell_type": "markdown",
      "source": [
        "5."
      ],
      "metadata": {
        "id": "xqa1hHxG47Sn"
      }
    },
    {
      "cell_type": "code",
      "source": [
        "import numpy as np\n",
        "import torch\n",
        "from torch import nn\n",
        "\n",
        "class Auto_Encoder(nn.Module):\n",
        "  def __init__(self):\n",
        "    super().__init__()\n",
        "\n",
        "    size_M = 8\n",
        "    size_x = 2\n",
        "\n",
        "    self.encoder = nn.Sequential(\n",
        "      nn.Linear(8, 4),\n",
        "      nn.ReLU(),\n",
        "      nn.Linear(4, 2),\n",
        "    )\n",
        "\n",
        "    self.decoder = nn.Sequential(\n",
        "      nn.Linear(2, 4),\n",
        "      nn.ReLU(),\n",
        "      nn.Linear(4, 8),\n",
        "      nn.Softmax(dim=1) #dim à expliquer\n",
        "    )\n",
        "\n",
        "  def forward(self, input):\n",
        "    encoding = self.encoder(input) # tensor en taille 8 (message) -> encode -> x (complexe) taille 2 (partie réel, partie imaginaire)\n",
        "    normal_layer = Normal_Layer()\n",
        "    encoding = normal_layer(encoding)\n",
        "    noise_layer = Noise_Layer()\n",
        "    encoding = noise_layer(encoding)\n",
        "    decoding = self.decoder(encoding) # x (encode) -> decode -> tensor taille 8\n",
        "    return encoding, decoding\n",
        "\n",
        "class Normal_Layer(nn.Module):\n",
        "  def __init__(self):\n",
        "    super().__init__()\n",
        "\n",
        "  def forward(self, input):\n",
        "    return nn.functional.normalize(input, p=2, dim=1) #On a regardé pour la dimension et le p et on les met meme si c'est les valeurs par default, expliquer pq on les choisit\n",
        "\n",
        "#Créer une fonction chanel dans la classe auto_encodeur et le mettre avant le decoding dans le forward\n",
        "class Noise_Layer(nn.Module):\n",
        "  def __init__(self):\n",
        "    super().__init__()\n",
        "\n",
        "  def forward(self, input):\n",
        "    matrix_rc = torch.randn(input.size(dim=0), input.size(dim=1))\n",
        "    k = torch.log2(torch.tensor(input.size(dim=1))).item()\n",
        "    factor = 1/torch.sqrt(torch.tensor(14*k))\n",
        "    matrix_rc = factor.mul(matrix_rc)\n",
        "\n",
        "    return input + matrix_rc\n",
        "\n",
        "if torch.cuda.is_available():\n",
        "      device = 'cuda'\n",
        "else:\n",
        "      device = 'cpu'\n",
        "print(device)\n",
        "model = Auto_Encoder().to(device)\n",
        "print(model)\n",
        "\n",
        "encoded, decoded = model(tensor.float())\n",
        "print(encoded)\n",
        "print(decoded)\n",
        "\n"
      ],
      "metadata": {
        "id": "_mr6I6cD49lk",
        "colab": {
          "base_uri": "https://localhost:8080/"
        },
        "outputId": "378f23d8-e6c2-48b3-8847-6dea7e509342"
      },
      "execution_count": 74,
      "outputs": [
        {
          "output_type": "stream",
          "name": "stdout",
          "text": [
            "cpu\n",
            "Auto_Encoder(\n",
            "  (encoder): Sequential(\n",
            "    (0): Linear(in_features=8, out_features=4, bias=True)\n",
            "    (1): ReLU()\n",
            "    (2): Linear(in_features=4, out_features=2, bias=True)\n",
            "  )\n",
            "  (decoder): Sequential(\n",
            "    (0): Linear(in_features=2, out_features=4, bias=True)\n",
            "    (1): ReLU()\n",
            "    (2): Linear(in_features=4, out_features=8, bias=True)\n",
            "    (3): Softmax(dim=1)\n",
            "  )\n",
            ")\n",
            "tensor([[ 0.6597, -0.2558],\n",
            "        [ 0.7396, -0.0049],\n",
            "        [ 0.2490,  0.1204],\n",
            "        ...,\n",
            "        [ 1.2443, -0.6412],\n",
            "        [ 1.1204, -0.2032],\n",
            "        [ 0.9080, -0.6317]], grad_fn=<AddBackward0>)\n",
            "tensor([[0.0992, 0.0975, 0.1114,  ..., 0.1209, 0.1760, 0.1095],\n",
            "        [0.1020, 0.0955, 0.1125,  ..., 0.1175, 0.1792, 0.1064],\n",
            "        [0.0903, 0.1038, 0.1076,  ..., 0.1321, 0.1652, 0.1199],\n",
            "        ...,\n",
            "        [0.1020, 0.0955, 0.1125,  ..., 0.1175, 0.1792, 0.1064],\n",
            "        [0.1020, 0.0955, 0.1125,  ..., 0.1175, 0.1792, 0.1064],\n",
            "        [0.1020, 0.0955, 0.1125,  ..., 0.1175, 0.1792, 0.1064]],\n",
            "       grad_fn=<SoftmaxBackward0>)\n"
          ]
        }
      ]
    },
    {
      "cell_type": "markdown",
      "source": [
        "5.1\n",
        "https://arxiv.org/pdf/1702.00832.pdf\n"
      ],
      "metadata": {
        "id": "ZpZt6HiUv-02"
      }
    },
    {
      "cell_type": "markdown",
      "source": [
        "5.6. Fonction d'activation : fonction qui détermine si un neurone artificiel doit être activé ou pas et, dans le premier cas, le degré de cette activation.\n"
      ],
      "metadata": {
        "id": "016rSzBawhNA"
      }
    },
    {
      "cell_type": "markdown",
      "source": [
        "5.7. https://pytorch.org/docs/stable/generated/torch.nn.functional.normalize.html"
      ],
      "metadata": {
        "id": "T9kOKtbqyPki"
      }
    },
    {
      "cell_type": "code",
      "source": [
        "tensor = nn.functional.normalize(tensor, p=2, dim=1) #On a regardé pour la dimension et le p et on les met meme si c'est les valeurs par default"
      ],
      "metadata": {
        "id": "-xjZYNLIyRrt"
      },
      "execution_count": null,
      "outputs": []
    },
    {
      "cell_type": "markdown",
      "source": [
        "6. Apprentissage du modèle"
      ],
      "metadata": {
        "id": "KBNBoSx2rRBd"
      }
    },
    {
      "cell_type": "markdown",
      "source": [
        "Les auteurs utilisent la fonction de coût d’entropie croisée catégorielle (categorical cross-entropy). Cette fonc-\n",
        "tion de coût est souvent utilisé pour la classification multi-classe, à l’instar de l’entropie croisée simple pour la\n",
        "classification binaire. Pour l’algorithme d’optimisation, les auteurs utilisent Adam, avec un taux d’apprentissage\n",
        "fixé à 0.001. Dans un premier temps, on fixe le nombre d’epochs à 50 et la taille du batch à 1000."
      ],
      "metadata": {
        "id": "4OkxUUM9rWxT"
      }
    },
    {
      "cell_type": "markdown",
      "source": [
        "15. Entraînez le modèle d’auto-encodeur précédemment créé."
      ],
      "metadata": {
        "id": "eYxVeGWDramP"
      }
    },
    {
      "cell_type": "code",
      "source": [
        "from torch.utils.data import DataLoader\n",
        "from torch.utils.data import Dataset\n",
        "\n",
        "class CustomDataset(Dataset):\n",
        "  def __init__(self, tensor):\n",
        "        self.data = tensor\n",
        "\n",
        "  def __len__(self):\n",
        "      return len(self.data)\n",
        "\n",
        "  def __getitem__(self, idx):\n",
        "      return self.data[idx]\n",
        "\n",
        "def train(dataloader, model, loss_fn, optim, device):\n",
        "    model.train(True)\n",
        "    for step, inputs in enumerate(dataloader):\n",
        "        inputs = inputs.to(device)\n",
        "        _, decoding = model(inputs.float())\n",
        "        loss = loss_fn(decoding, inputs)\n",
        "        optim.zero_grad()\n",
        "        loss.backward()\n",
        "        optim.step()\n",
        "\n",
        "        if step % 10 == 0:\n",
        "          print(\"Batch : \" + str(step) + \" Loss : \" + str(loss.item() ))\n",
        "\n",
        "def test(dataloader, model, device):\n",
        "  correct = 0\n",
        "  total = 0\n",
        "  model.eval()\n",
        "  with torch.no_grad():\n",
        "      for inputs in dataloader:\n",
        "            inputs = inputs.to(device)\n",
        "            _, decoding = model(inputs.float())\n",
        "            predicted = decoding.argmax(1)\n",
        "            inputs = inputs.argmax(1)\n",
        "            total += inputs.size(0)\n",
        "            correct += (predicted == inputs).sum().item()\n",
        "  print('Précision : ' + str(100 * correct // total) + ' %')\n",
        "\n",
        "if torch.cuda.is_available():\n",
        "      device = 'cuda'\n",
        "else:\n",
        "      device = 'cpu'\n",
        "print(device)\n",
        "model = Auto_Encoder().to(device)\n",
        "print(model)\n",
        "\n",
        "loss_fn = nn.CrossEntropyLoss()\n",
        "\n",
        "learning_rate = 0.001\n",
        "epochs = 50\n",
        "batch_size = 1000\n",
        "\n",
        "optim = torch.optim.Adam(model.parameters(), lr=learning_rate)\n",
        "\n",
        "train_size = int(0.6 * len(tensor))\n",
        "test_size = len(tensor) - train_size\n",
        "train_tensor, test_tensor = torch.utils.data.random_split(tensor, [train_size, test_size])\n",
        "\n",
        "train_dataset = CustomDataset(train_tensor)\n",
        "test_dataset = CustomDataset(test_tensor)\n",
        "\n",
        "train_dataloader = DataLoader(train_dataset, batch_size=batch_size, shuffle=True, pin_memory=True)\n",
        "test_dataloader = DataLoader(test_dataset, batch_size=batch_size, shuffle=False)\n",
        "\n",
        "for epoch in range(epochs):\n",
        "    print('Epochs : ' + str(epoch+1) + '/' + str(epochs))\n",
        "    train(dataloader=train_dataloader, model=model, loss_fn=loss_fn, optim=optim, device=device)\n",
        "    test(dataloader=test_dataloader, model=model, device=device)\n"
      ],
      "metadata": {
        "id": "FXNzRsAdrcvv"
      },
      "execution_count": null,
      "outputs": []
    },
    {
      "cell_type": "markdown",
      "source": [
        "8. Affichage de la constellation apprise"
      ],
      "metadata": {
        "id": "hZEt1MJS2rpJ"
      }
    },
    {
      "cell_type": "markdown",
      "source": [
        "Dans cette partie, nous allons afficher la constellation apprise par le réseau de neurone. La constellation est le\n",
        "placement dans le plan complexe de tous les symboles complexes possibles. Pour ce faire, on utilisera seulement la\n",
        "partie encodeur du réseau. Ensuite, pour chaque réalisation possible de s, on récupère le symbole correspondant x. Pour le tracer de courbes et figures, il faut importer la bibliothèque Matplotlib."
      ],
      "metadata": {
        "id": "uPbhYl502uyB"
      }
    },
    {
      "cell_type": "markdown",
      "source": [
        "19. Affichez grâce à la fonction scatter la constellation apprise par le réseau de neurone. Comparez cette\n",
        "constellation à celle d’une traditionnelle M -PSK utilisée en communication numérique"
      ],
      "metadata": {
        "id": "SN0dbY9P3K_a"
      }
    },
    {
      "cell_type": "code",
      "source": [
        "import matplotlib.pyplot as plt\n",
        "\n",
        "def plot_constellation(decoder):\n",
        "    plt.figure(figsize=(6, 6))\n",
        "    plt.scatter(encoder[:, 0], encoder[:, 1], marker='o', color='b', label='constellation')\n",
        "    plt.xlabel('Partie réelle')\n",
        "    plt.ylabel('Partie imaginaire')\n",
        "    plt.grid(True)\n",
        "    plt.show()\n",
        "\n",
        "with torch.no_grad():\n",
        "  encoder, _ = model(tensor.float())\n",
        "plot_constellation(encoder)\n"
      ],
      "metadata": {
        "colab": {
          "base_uri": "https://localhost:8080/",
          "height": 542
        },
        "id": "nMoVzhFUyuNi",
        "outputId": "e5bb2160-db94-4f12-d74f-c735155a771c"
      },
      "execution_count": 135,
      "outputs": [
        {
          "output_type": "display_data",
          "data": {
            "text/plain": [
              "<Figure size 600x600 with 1 Axes>"
            ],
            "image/png": "[encoded data removed]"
          },
          "metadata": {}
        }
      ]
    },
    {
      "cell_type": "markdown",
      "source": [
        "10."
      ],
      "metadata": {
        "id": "ZPO3Zngk4xCt"
      }
    },
    {
      "cell_type": "code",
      "source": [
        "ser_8psk = [0.3478959 , 0.2926128, 0.2378847, 0.1854187, 0.1372344, 0.0953536, 0.0614003, 0.0360195, 0.0185215, 0.0082433, 0.0030178, 0.0008626, 0.0001903, 0.0000289, 0.0000027]\n",
        "ebnodb_8psk = np.linspace(0, 14, 15)"
      ],
      "metadata": {
        "id": "NCvNryXn4yrb"
      },
      "execution_count": null,
      "outputs": []
    }
  ]
}